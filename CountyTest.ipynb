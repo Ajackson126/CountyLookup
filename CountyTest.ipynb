{
 "cells": [
  {
   "cell_type": "code",
   "execution_count": 1,
   "metadata": {},
   "outputs": [],
   "source": [
    "#Importing libraries for webdriver and button select\n",
    "from selenium import webdriver\n",
    "from selenium.webdriver.support.ui import Select\n",
    "import csv\n",
    "import time"
   ]
  },
  {
   "cell_type": "code",
   "execution_count": 2,
   "metadata": {},
   "outputs": [],
   "source": [
    "DRIVER_PATH = 'webdriver/chromedriver.exe'"
   ]
  },
  {
   "cell_type": "code",
   "execution_count": 3,
   "metadata": {},
   "outputs": [],
   "source": [
    "driver = webdriver.Chrome(executable_path=DRIVER_PATH)"
   ]
  },
  {
   "cell_type": "code",
   "execution_count": 4,
   "metadata": {},
   "outputs": [],
   "source": [
    "driver.get('https://www.usps.com/')"
   ]
  },
  {
   "cell_type": "code",
   "execution_count": 5,
   "metadata": {},
   "outputs": [],
   "source": [
    "driver.get('https://tools.usps.com/go/ZipLookupAction_input')"
   ]
  },
  {
   "cell_type": "code",
   "execution_count": 6,
   "metadata": {},
   "outputs": [],
   "source": [
    "driver.get('https://tools.usps.com/zip-code-lookup.htm?byaddress')"
   ]
  },
  {
   "cell_type": "code",
   "execution_count": 7,
   "metadata": {},
   "outputs": [
    {
     "name": "stdout",
     "output_type": "stream",
     "text": [
      "['1', '1133 S University Dr', 'Plantation', 'FL', '33324', 'BROWARD']\n",
      "['2', '6413 Congress Ave', 'Boca Raton', 'FL', '33487', 'PALM BEACH']\n",
      "['3', '300 Rolling Oaks Dr', 'Driftwood', 'TX', '78619', 'HAYS']\n",
      "['4', '4476 Alexander Hill Ct', 'Harrisburg', 'NC', '28075', 'CABARRUS']\n",
      "['5', '39438 Kirtland Rd', 'Willoughby', 'OH', '44094', 'LAKE']\n",
      "['6', '204 Chesnut Hill Dr', 'Liverpool', 'NY', '13088', 'Not Found']\n",
      "['7', '2508 W Dallas Ct', 'Broken Arrow', 'OK', '74012', 'TULSA']\n",
      "['8', '1321 Sassafrass St', 'Franklin', 'PA', '16323', 'VENANGO']\n",
      "['9', '2801 Adams St ', 'Riverside', 'CA', '92504', 'RIVERSIDE']\n",
      "['10', '100 Chimney Ln SE', 'Cartersville', 'GA', '30120', 'BARTOW']\n"
     ]
    }
   ],
   "source": [
    "import time\n",
    "input_file_reader = csv.reader(open('AddressFileDrop\\InputAddressFile.csv', 'r'))\n",
    "output_file = open('CountyResults.csv', 'w')\n",
    "output_file_writer = csv.writer(output_file)\n",
    "\n",
    "for address in input_file_reader:\n",
    "    \n",
    "    time.sleep(2)\n",
    "    #Place Address in Street Address field\n",
    "    street_address_input = driver.find_element_by_id(\"tAddress\")\n",
    "    street_address_input.send_keys(address[1])\n",
    "    \n",
    "    #Place city in City field\n",
    "    city_input = driver.find_element_by_id(\"tCity\")\n",
    "    city_input.send_keys(address[2])\n",
    "    \n",
    "    #Select State in drop down menu\n",
    "    select = Select(driver.find_element_by_id('tState'))\n",
    "    select.select_by_value(address[3])\n",
    "    \n",
    "    #Place zip code in ZIP Code field\n",
    "    zip_code_input = driver.find_element_by_id('tZip-byaddress')\n",
    "    zip_code_input.send_keys(address[4])\n",
    "    \n",
    "    time.sleep(2)\n",
    "    \n",
    "    #Click the \"Find\" button\n",
    "    button = driver.find_element_by_id('zip-by-address')\n",
    "    button.click()\n",
    "    \n",
    "    time.sleep(2)\n",
    "    #try/except block to get around addresses that aren't found\n",
    "    try:\n",
    "        container = driver.find_element_by_xpath('/html/body/div[3]/div/div[5]/div/div/div[4]/div/div/ul/li')\n",
    "    except:\n",
    "        address_temp = address\n",
    "        address_temp.append(\"Not Found\")\n",
    "        address_with_county = address_temp\n",
    "        print(address_with_county)\n",
    "        output_file_writer.writerow(address_with_county)\n",
    "        driver.get('https://www.usps.com/')\n",
    "        time.sleep(2)\n",
    "        driver.get('https://tools.usps.com/go/ZipLookupAction_input')\n",
    "        time.sleep(2)\n",
    "        driver.get('https://tools.usps.com/zip-code-lookup.htm?byaddress')\n",
    "        continue\n",
    "    #Show hidden elements    \n",
    "    driver.execute_script(\"arguments[0].setAttribute('class','list-group-item paginate active')\", container)\n",
    "\n",
    "    time.sleep(2)\n",
    "    #Get county\n",
    "    county = driver.find_element_by_xpath('/html/body/div[3]/div/div[5]/div/div/div[4]/div/div/ul/li/div[2]/div[1]/div[2]/div[2]/p')\n",
    "    county_text = county.text\n",
    "    address_temp = address\n",
    "    address_temp.append(county_text)\n",
    "    address_with_county = address_temp\n",
    "    print(address_with_county)\n",
    "    \n",
    "    #write values to csv file\n",
    "    output_file_writer.writerow(address_with_county)\n",
    "    \n",
    "    time.sleep(2)\n",
    "    \n",
    "    #Click link to enter new address\n",
    "    look_up_another_address = driver.find_element_by_xpath('/html/body/div[3]/div/div[5]/div/div/div[7]/div/div[1]/a')\n",
    "    look_up_another_address.click()\n",
    "    \n",
    "    "
   ]
  },
  {
   "cell_type": "code",
   "execution_count": 8,
   "metadata": {},
   "outputs": [],
   "source": [
    "#Close output file\n",
    "output_file.close()"
   ]
  },
  {
   "cell_type": "code",
   "execution_count": 9,
   "metadata": {},
   "outputs": [],
   "source": [
    "driver.close()"
   ]
  }
 ],
 "metadata": {
  "kernelspec": {
   "display_name": "Python 3",
   "language": "python",
   "name": "python3"
  },
  "language_info": {
   "codemirror_mode": {
    "name": "ipython",
    "version": 3
   },
   "file_extension": ".py",
   "mimetype": "text/x-python",
   "name": "python",
   "nbconvert_exporter": "python",
   "pygments_lexer": "ipython3",
   "version": "3.7.6"
  }
 },
 "nbformat": 4,
 "nbformat_minor": 4
}
